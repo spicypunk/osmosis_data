{
 "cells": [
  {
   "cell_type": "code",
   "execution_count": 55,
   "metadata": {},
   "outputs": [],
   "source": [
    "import requests\n",
    "import pandas as pd\n",
    "import matplotlib.pyplot as plt\n",
    "import seaborn as sns\n",
    "import datetime"
   ]
  },
  {
   "cell_type": "code",
   "execution_count": 40,
   "metadata": {},
   "outputs": [],
   "source": [
    "r = requests.get(\"https://data.binance.com/api/v3/depth\",\n",
    "                 params=dict(symbol=\"OSMOUSDT\"))\n",
    "results = r.json()"
   ]
  },
  {
   "cell_type": "code",
   "execution_count": 41,
   "metadata": {},
   "outputs": [],
   "source": [
    "# create a dictionary of dataframe\n",
    "frames = {side: pd.DataFrame(data=results[side], columns=[\"price\", \"quantity\"],\n",
    "                             dtype=float)\n",
    "          for side in [\"bids\", \"asks\"]}"
   ]
  },
  {
   "cell_type": "code",
   "execution_count": 42,
   "metadata": {},
   "outputs": [
    {
     "name": "stdout",
     "output_type": "stream",
     "text": [
      "{'bids':     price  quantity\n",
      "0   0.855    360.55\n",
      "1   0.854    921.78\n",
      "2   0.853  21365.57\n",
      "3   0.852   9942.97\n",
      "4   0.851    469.37\n",
      "..    ...       ...\n",
      "95  0.727     27.51\n",
      "96  0.725     30.79\n",
      "97  0.724    414.36\n",
      "98  0.723     69.15\n",
      "99  0.722     46.60\n",
      "\n",
      "[100 rows x 2 columns], 'asks':     price  quantity\n",
      "0   0.856     42.64\n",
      "1   0.857   1245.70\n",
      "2   0.858   1050.43\n",
      "3   0.859   8852.43\n",
      "4   0.860   1219.11\n",
      "..    ...       ...\n",
      "95  0.987     12.38\n",
      "96  0.988     11.41\n",
      "97  0.989    559.86\n",
      "98  0.990   7252.34\n",
      "99  0.992    769.01\n",
      "\n",
      "[100 rows x 2 columns]}\n"
     ]
    }
   ],
   "source": [
    "print(frames)"
   ]
  },
  {
   "cell_type": "code",
   "execution_count": 47,
   "metadata": {},
   "outputs": [
    {
     "name": "stdout",
     "output_type": "stream",
     "text": [
      "     price  quantity  side\n",
      "0    0.855    360.55  bids\n",
      "1    0.854    921.78  bids\n",
      "2    0.853  21365.57  bids\n",
      "3    0.852   9942.97  bids\n",
      "4    0.851    469.37  bids\n",
      "..     ...       ...   ...\n",
      "195  0.987     12.38  asks\n",
      "196  0.988     11.41  asks\n",
      "197  0.989    559.86  asks\n",
      "198  0.990   7252.34  asks\n",
      "199  0.992    769.01  asks\n",
      "\n",
      "[200 rows x 3 columns]\n"
     ]
    }
   ],
   "source": [
    "frames_list = [frames[side].assign(side=side) for side in frames]\n",
    "data = pd.concat(frames_list, axis=\"index\", \n",
    "                 ignore_index=True, sort=True)\n",
    "print(data)"
   ]
  },
  {
   "cell_type": "code",
   "execution_count": 45,
   "metadata": {},
   "outputs": [
    {
     "data": {
      "text/plain": [
       "0    0.855\n",
       "1    0.854\n",
       "2    0.853\n",
       "3    0.852\n",
       "4    0.851\n",
       "Name: price, dtype: float64"
      ]
     },
     "execution_count": 45,
     "metadata": {},
     "output_type": "execute_result"
    }
   ],
   "source": [
    "frames[\"bids\"].price.nlargest(5)"
   ]
  },
  {
   "cell_type": "code",
   "execution_count": 46,
   "metadata": {},
   "outputs": [
    {
     "data": {
      "text/plain": [
       "0    0.856\n",
       "1    0.857\n",
       "2    0.858\n",
       "3    0.859\n",
       "4    0.860\n",
       "Name: price, dtype: float64"
      ]
     },
     "execution_count": 46,
     "metadata": {},
     "output_type": "execute_result"
    }
   ],
   "source": [
    "frames[\"asks\"].price.nsmallest(5)"
   ]
  },
  {
   "cell_type": "code",
   "execution_count": 58,
   "metadata": {},
   "outputs": [],
   "source": [
    "book_list = []"
   ]
  },
  {
   "cell_type": "code",
   "execution_count": 59,
   "metadata": {},
   "outputs": [],
   "source": [
    "# keep getting orderbook from binance, \n",
    "def get_binance_book():\n",
    "    r = requests.get(\"https://data.binance.com/api/v3/depth\",\n",
    "                 params=dict(symbol=\"OSMOUSDT\"))\n",
    "    results = r.json()\n",
    "    # a dictionary of side: price, quantity orderbook\n",
    "    frame = {side: pd.DataFrame(data=results[side], columns=[\"price\", \"quantity\"],\n",
    "                             dtype=float)\n",
    "          for side in [\"bids\", \"asks\"]}\n",
    "    book_list += frame\n",
    "    return book_list"
   ]
  },
  {
   "cell_type": "code",
   "execution_count": 60,
   "metadata": {},
   "outputs": [],
   "source": [
    "def get_block_time():\n",
    "    block_request = requests.get('https://osmosis-lcd.quickapi.com/cosmos/base/tendermint/v1beta1/blocks/latest').json()\n",
    "    blockNumber = int(block_request['block']['header']['height'])\n",
    "    blockTime = block_request['block']['header']['time']\n",
    "    blockTime = blockTime.replace('Z', '')[0:19]\n",
    "    blockTime = datetime.datetime.strptime(blockTime,\"%Y-%m-%dT%H:%M:%S\")\n",
    "    return blockTime, blockNumber"
   ]
  },
  {
   "cell_type": "code",
   "execution_count": 61,
   "metadata": {
    "scrolled": true
   },
   "outputs": [
    {
     "ename": "UnboundLocalError",
     "evalue": "local variable 'book_list' referenced before assignment",
     "output_type": "error",
     "traceback": [
      "\u001b[0;31m---------------------------------------------------------------------------\u001b[0m",
      "\u001b[0;31mUnboundLocalError\u001b[0m                         Traceback (most recent call last)",
      "\u001b[0;32m/var/folders/jx/l7tdc0hn3xj96v6n943zvz040000gn/T/ipykernel_93053/2542444578.py\u001b[0m in \u001b[0;36m<module>\u001b[0;34m\u001b[0m\n\u001b[1;32m      1\u001b[0m \u001b[0msaved_block_time\u001b[0m \u001b[0;34m=\u001b[0m \u001b[0mget_block_time\u001b[0m\u001b[0;34m(\u001b[0m\u001b[0;34m)\u001b[0m\u001b[0;34m[\u001b[0m\u001b[0;36m0\u001b[0m\u001b[0;34m]\u001b[0m\u001b[0;34m\u001b[0m\u001b[0;34m\u001b[0m\u001b[0m\n\u001b[1;32m      2\u001b[0m \u001b[0;32mwhile\u001b[0m \u001b[0;32mTrue\u001b[0m\u001b[0;34m:\u001b[0m\u001b[0;34m\u001b[0m\u001b[0;34m\u001b[0m\u001b[0m\n\u001b[0;32m----> 3\u001b[0;31m     \u001b[0mbook_list\u001b[0m \u001b[0;34m=\u001b[0m \u001b[0mget_binance_book\u001b[0m\u001b[0;34m(\u001b[0m\u001b[0;34m)\u001b[0m\u001b[0;34m\u001b[0m\u001b[0;34m\u001b[0m\u001b[0m\n\u001b[0m\u001b[1;32m      4\u001b[0m     \u001b[0mblock_time\u001b[0m \u001b[0;34m=\u001b[0m \u001b[0mget_block_time\u001b[0m\u001b[0;34m(\u001b[0m\u001b[0;34m)\u001b[0m\u001b[0;34m[\u001b[0m\u001b[0;36m0\u001b[0m\u001b[0;34m]\u001b[0m\u001b[0;34m\u001b[0m\u001b[0;34m\u001b[0m\u001b[0m\n\u001b[1;32m      5\u001b[0m     \u001b[0;32mif\u001b[0m \u001b[0mblock_time\u001b[0m \u001b[0;34m>\u001b[0m \u001b[0msaved_block_time\u001b[0m\u001b[0;34m:\u001b[0m\u001b[0;34m\u001b[0m\u001b[0;34m\u001b[0m\u001b[0m\n",
      "\u001b[0;32m/var/folders/jx/l7tdc0hn3xj96v6n943zvz040000gn/T/ipykernel_93053/3232546994.py\u001b[0m in \u001b[0;36mget_binance_book\u001b[0;34m()\u001b[0m\n\u001b[1;32m      8\u001b[0m                              dtype=float)\n\u001b[1;32m      9\u001b[0m           for side in [\"bids\", \"asks\"]}\n\u001b[0;32m---> 10\u001b[0;31m     \u001b[0mbook_list\u001b[0m \u001b[0;34m+=\u001b[0m \u001b[0mframe\u001b[0m\u001b[0;34m\u001b[0m\u001b[0;34m\u001b[0m\u001b[0m\n\u001b[0m\u001b[1;32m     11\u001b[0m     \u001b[0;32mreturn\u001b[0m \u001b[0mbook_list\u001b[0m\u001b[0;34m\u001b[0m\u001b[0;34m\u001b[0m\u001b[0m\n",
      "\u001b[0;31mUnboundLocalError\u001b[0m: local variable 'book_list' referenced before assignment"
     ]
    }
   ],
   "source": [
    "saved_block_time = get_block_time()[0]\n",
    "while True:\n",
    "    book_list = get_binance_book()\n",
    "    block_time = get_block_time()[0]\n",
    "    if block_time > saved_block_time:\n",
    "        print(book_list[-1])\n",
    "        saved_block_time = block_time\n",
    "        break"
   ]
  },
  {
   "cell_type": "code",
   "execution_count": null,
   "metadata": {},
   "outputs": [],
   "source": []
  }
 ],
 "metadata": {
  "kernelspec": {
   "display_name": "Python 3 (ipykernel)",
   "language": "python",
   "name": "python3"
  },
  "language_info": {
   "codemirror_mode": {
    "name": "ipython",
    "version": 3
   },
   "file_extension": ".py",
   "mimetype": "text/x-python",
   "name": "python",
   "nbconvert_exporter": "python",
   "pygments_lexer": "ipython3",
   "version": "3.9.13"
  }
 },
 "nbformat": 4,
 "nbformat_minor": 2
}
