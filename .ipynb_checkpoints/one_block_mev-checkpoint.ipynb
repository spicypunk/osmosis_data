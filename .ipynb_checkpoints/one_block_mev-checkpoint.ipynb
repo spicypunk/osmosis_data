{
 "cells": [
  {
   "cell_type": "code",
   "execution_count": 2,
   "id": "8a83ac3c",
   "metadata": {},
   "outputs": [],
   "source": [
    "import pandas as pd"
   ]
  },
  {
   "cell_type": "code",
   "execution_count": 16,
   "id": "4bebdfcd",
   "metadata": {},
   "outputs": [],
   "source": [
    "df = pd.read_excel('one_block.xlsx')"
   ]
  },
  {
   "cell_type": "code",
   "execution_count": 17,
   "id": "d9b42d5d",
   "metadata": {},
   "outputs": [
    {
     "name": "stdout",
     "output_type": "stream",
     "text": [
      "Index(['Unnamed: 0', 'Price', 'Volume', 'Unnamed: 3', 'Unix timestamp',\n",
      "       'height', 'Osmosis Price', 'Difference'],\n",
      "      dtype='object')\n"
     ]
    }
   ],
   "source": [
    "print(df.columns)"
   ]
  },
  {
   "cell_type": "code",
   "execution_count": 18,
   "id": "861ada5a",
   "metadata": {},
   "outputs": [
    {
     "name": "stdout",
     "output_type": "stream",
     "text": [
      "      Unix timestamp  height  Volume  Price  Osmosis Price\n",
      "0      1666951200000  663954    9.62  1.040          1.732\n",
      "1      1666951200003  663954    7.67  1.788          1.732\n",
      "2      1666951200005  663954   13.98  1.788          1.732\n",
      "3      1666951200009  663954  313.19  1.788          1.732\n",
      "4      1666951200011  663954  175.39  1.788          1.732\n",
      "...              ...     ...     ...    ...            ...\n",
      "3562   1666951208994  663954   63.40  1.567          1.732\n",
      "3563   1666951208994  663954  185.37  1.567          1.732\n",
      "3564   1666951208994  663954  899.25  1.566          1.732\n",
      "3565   1666951208997  663954    6.88  1.586          1.732\n",
      "3566   1666951208997  663954   19.38  1.586          1.732\n",
      "\n",
      "[3567 rows x 5 columns]\n"
     ]
    }
   ],
   "source": [
    "df = df [['Unix timestamp','height','Volume','Price','Osmosis Price']]\n",
    "print(df)"
   ]
  },
  {
   "cell_type": "code",
   "execution_count": 19,
   "id": "642823db",
   "metadata": {},
   "outputs": [],
   "source": [
    "df ['difference'] = df['Price'] - df['Osmosis Price']"
   ]
  },
  {
   "cell_type": "code",
   "execution_count": 20,
   "id": "393279b6",
   "metadata": {},
   "outputs": [
    {
     "name": "stdout",
     "output_type": "stream",
     "text": [
      "      Unix timestamp  height  Volume  Price  Osmosis Price  difference\n",
      "0      1666951200000  663954    9.62  1.040          1.732      -0.692\n",
      "1      1666951200003  663954    7.67  1.788          1.732       0.056\n",
      "2      1666951200005  663954   13.98  1.788          1.732       0.056\n",
      "3      1666951200009  663954  313.19  1.788          1.732       0.056\n",
      "4      1666951200011  663954  175.39  1.788          1.732       0.056\n",
      "...              ...     ...     ...    ...            ...         ...\n",
      "3562   1666951208994  663954   63.40  1.567          1.732      -0.165\n",
      "3563   1666951208994  663954  185.37  1.567          1.732      -0.165\n",
      "3564   1666951208994  663954  899.25  1.566          1.732      -0.166\n",
      "3565   1666951208997  663954    6.88  1.586          1.732      -0.146\n",
      "3566   1666951208997  663954   19.38  1.586          1.732      -0.146\n",
      "\n",
      "[3567 rows x 6 columns]\n"
     ]
    }
   ],
   "source": [
    "print(df)"
   ]
  },
  {
   "cell_type": "code",
   "execution_count": 26,
   "id": "30217b1c",
   "metadata": {},
   "outputs": [
    {
     "name": "stdout",
     "output_type": "stream",
     "text": [
      "1       0.056\n",
      "2       0.056\n",
      "3       0.056\n",
      "4       0.056\n",
      "6       0.056\n",
      "        ...  \n",
      "1575    0.018\n",
      "1576    0.018\n",
      "1577    0.018\n",
      "1578    0.018\n",
      "1579    0.017\n",
      "Name: difference, Length: 762, dtype: float64\n"
     ]
    }
   ],
   "source": [
    "arbitrages = df['difference'][df['difference'] > 0.01]\n",
    "print(arbitrages)"
   ]
  },
  {
   "cell_type": "code",
   "execution_count": 27,
   "id": "84411b62",
   "metadata": {},
   "outputs": [
    {
     "name": "stdout",
     "output_type": "stream",
     "text": [
      "18.23700000000002\n"
     ]
    }
   ],
   "source": [
    "block_mev = arbitrages.sum()\n",
    "print(block_mev)"
   ]
  },
  {
   "cell_type": "code",
   "execution_count": null,
   "id": "36e952cc",
   "metadata": {},
   "outputs": [],
   "source": []
  }
 ],
 "metadata": {
  "kernelspec": {
   "display_name": "Python 3 (ipykernel)",
   "language": "python",
   "name": "python3"
  },
  "language_info": {
   "codemirror_mode": {
    "name": "ipython",
    "version": 3
   },
   "file_extension": ".py",
   "mimetype": "text/x-python",
   "name": "python",
   "nbconvert_exporter": "python",
   "pygments_lexer": "ipython3",
   "version": "3.9.13"
  }
 },
 "nbformat": 4,
 "nbformat_minor": 5
}
