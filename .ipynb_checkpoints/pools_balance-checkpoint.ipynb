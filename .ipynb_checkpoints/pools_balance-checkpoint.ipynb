{
 "cells": [
  {
   "cell_type": "code",
   "execution_count": 6,
   "metadata": {},
   "outputs": [],
   "source": [
    "import json\n",
    "import csv\n",
    "import subprocess"
   ]
  },
  {
   "cell_type": "code",
   "execution_count": 7,
   "metadata": {},
   "outputs": [],
   "source": [
    "## The capture_output=True, which means that the output of the command will be captured and stored \n",
    "# in the stdout attribute of the result object. The text=True, the output is returned as a string \n",
    "# instead of bytes. \"-o json\" tells the command to output the results in JSON format\n",
    "\n",
    "#/Users/bethie/go/bin/osmosisd q gamm pools --height 8292971 -o json\n",
    "\n",
    "p1 = subprocess.run([\"/Users/bethie/go/bin/osmosisd\", \"query\", \"gamm\", \"pools\",\n",
    "                              \"-o\", \"json\"], capture_output=True, text=True)"
   ]
  },
  {
   "cell_type": "code",
   "execution_count": 8,
   "metadata": {},
   "outputs": [],
   "source": [
    "# Load the JSON object from the stdout\n",
    "data = json.loads(p1.stdout) # data is a dictionary\n",
    "data_list = list(data) # list of dictionary keys\n",
    "#print(data_list)\n",
    "values = [] # list to store values\n",
    "\n",
    "for key in data_list:\n",
    "    value = data[key]\n",
    "    values.append(value)"
   ]
  },
  {
   "cell_type": "code",
   "execution_count": 9,
   "metadata": {},
   "outputs": [],
   "source": [
    "pools_data = values[0] # a list of dictionaries (pool), individual pools are dictionaries pools_data[i]\n",
    "# for example pools_data[0] is a dictionary of the first pool (OSMO-ATOM)\n",
    "osmo_atom = pools_data[0] # a dictionary of the first pool (OSMO-ATOM)\n",
    "\n",
    "# get current pool assets (denom, pool balance, weight)\n",
    "osmo_atom_pool_asset1 = osmo_atom['pool_assets'][0] # a dictionary of the first pool asset\n",
    "osmo_atom_pool_asset2 = osmo_atom['pool_assets'][1] # a dictionary of the second pool asset"
   ]
  },
  {
   "cell_type": "code",
   "execution_count": 10,
   "metadata": {},
   "outputs": [
    {
     "name": "stdout",
     "output_type": "stream",
     "text": [
      "{'token_denom': 'ibc/27394FB092D2ECCD56123C74F36E4C1F926001CEADA9CA97EA622B25F41E5EB2', 'token_amount': '2486067671158', 'weight': '536870912000000'}\n"
     ]
    }
   ],
   "source": [
    "def flatten_dict(d, parent_key='', sep='_'):\n",
    "    items = []\n",
    "    for k, v in d.items():\n",
    "        new_key = parent_key + sep + k if parent_key else k\n",
    "        if isinstance(v, dict):\n",
    "            items.extend(flatten_dict(v, new_key, sep=sep).items())\n",
    "        else:\n",
    "            items.append((new_key, v))\n",
    "    return dict(items)\n",
    "\n",
    "osmo_atom_pool_asset1 = flatten_dict(osmo_atom_pool_asset1)\n",
    "print(osmo_atom_pool_asset1)"
   ]
  },
  {
   "cell_type": "code",
   "execution_count": 11,
   "metadata": {},
   "outputs": [],
   "source": [
    "header = list(osmo_atom_pool_asset1.keys()) # get a list of keys of the dictionary (atom_pool_asset1)"
   ]
  },
  {
   "cell_type": "code",
   "execution_count": 12,
   "metadata": {},
   "outputs": [],
   "source": [
    "with open('output.csv', mode='w') as csv_file:\n",
    "    # Create a CSV writer object\n",
    "    writer = csv.writer(csv_file)\n",
    "\n",
    "    # Write the header row to the CSV\n",
    "    writer.writerow(header)\n",
    "\n",
    "    # Write each row to the CSV\n",
    "    re_values = list(osmo_atom_pool_asset1.values())\n",
    "    writer.writerow(re_values)\n",
    "\n",
    "    # for key in osmo_atom_pool_asset2:\n",
    "    #     print(osmo_atom_pool_asset2[key])"
   ]
  },
  {
   "cell_type": "code",
   "execution_count": null,
   "metadata": {},
   "outputs": [],
   "source": []
  }
 ],
 "metadata": {
  "kernelspec": {
   "display_name": "Python 3 (ipykernel)",
   "language": "python",
   "name": "python3"
  },
  "language_info": {
   "codemirror_mode": {
    "name": "ipython",
    "version": 3
   },
   "file_extension": ".py",
   "mimetype": "text/x-python",
   "name": "python",
   "nbconvert_exporter": "python",
   "pygments_lexer": "ipython3",
   "version": "3.10.0"
  },
  "vscode": {
   "interpreter": {
    "hash": "949777d72b0d2535278d3dc13498b2535136f6dfe0678499012e853ee9abcab1"
   }
  }
 },
 "nbformat": 4,
 "nbformat_minor": 2
}
