{
 "cells": [
  {
   "cell_type": "code",
   "execution_count": 2,
   "metadata": {
    "scrolled": true
   },
   "outputs": [
    {
     "name": "stdout",
     "output_type": "stream",
     "text": [
      "Requirement already satisfied: python-binance in /Users/bethie/opt/anaconda3/lib/python3.9/site-packages (1.0.17)\n",
      "Requirement already satisfied: websockets in /Users/bethie/opt/anaconda3/lib/python3.9/site-packages (from python-binance) (10.4)\n",
      "Requirement already satisfied: ujson in /Users/bethie/opt/anaconda3/lib/python3.9/site-packages (from python-binance) (5.4.0)\n",
      "Requirement already satisfied: dateparser in /Users/bethie/opt/anaconda3/lib/python3.9/site-packages (from python-binance) (1.1.7)\n",
      "Requirement already satisfied: six in /Users/bethie/opt/anaconda3/lib/python3.9/site-packages (from python-binance) (1.16.0)\n",
      "Requirement already satisfied: requests in /Users/bethie/opt/anaconda3/lib/python3.9/site-packages (from python-binance) (2.28.1)\n",
      "Requirement already satisfied: pycryptodome in /Users/bethie/opt/anaconda3/lib/python3.9/site-packages (from python-binance) (3.17)\n",
      "Requirement already satisfied: aiohttp in /Users/bethie/opt/anaconda3/lib/python3.9/site-packages (from python-binance) (3.8.4)\n",
      "Requirement already satisfied: charset-normalizer<4.0,>=2.0 in /Users/bethie/opt/anaconda3/lib/python3.9/site-packages (from aiohttp->python-binance) (2.0.4)\n",
      "Requirement already satisfied: yarl<2.0,>=1.0 in /Users/bethie/opt/anaconda3/lib/python3.9/site-packages (from aiohttp->python-binance) (1.8.2)\n",
      "Requirement already satisfied: async-timeout<5.0,>=4.0.0a3 in /Users/bethie/opt/anaconda3/lib/python3.9/site-packages (from aiohttp->python-binance) (4.0.2)\n",
      "Requirement already satisfied: multidict<7.0,>=4.5 in /Users/bethie/opt/anaconda3/lib/python3.9/site-packages (from aiohttp->python-binance) (6.0.4)\n",
      "Requirement already satisfied: frozenlist>=1.1.1 in /Users/bethie/opt/anaconda3/lib/python3.9/site-packages (from aiohttp->python-binance) (1.3.3)\n",
      "Requirement already satisfied: aiosignal>=1.1.2 in /Users/bethie/opt/anaconda3/lib/python3.9/site-packages (from aiohttp->python-binance) (1.3.1)\n",
      "Requirement already satisfied: attrs>=17.3.0 in /Users/bethie/opt/anaconda3/lib/python3.9/site-packages (from aiohttp->python-binance) (21.4.0)\n",
      "Requirement already satisfied: python-dateutil in /Users/bethie/opt/anaconda3/lib/python3.9/site-packages (from dateparser->python-binance) (2.8.2)\n",
      "Requirement already satisfied: tzlocal in /Users/bethie/opt/anaconda3/lib/python3.9/site-packages (from dateparser->python-binance) (4.2)\n",
      "Requirement already satisfied: regex!=2019.02.19,!=2021.8.27 in /Users/bethie/opt/anaconda3/lib/python3.9/site-packages (from dateparser->python-binance) (2022.7.9)\n",
      "Requirement already satisfied: pytz in /Users/bethie/opt/anaconda3/lib/python3.9/site-packages (from dateparser->python-binance) (2022.1)\n",
      "Requirement already satisfied: urllib3<1.27,>=1.21.1 in /Users/bethie/opt/anaconda3/lib/python3.9/site-packages (from requests->python-binance) (1.26.11)\n",
      "Requirement already satisfied: idna<4,>=2.5 in /Users/bethie/opt/anaconda3/lib/python3.9/site-packages (from requests->python-binance) (3.3)\n",
      "Requirement already satisfied: certifi>=2017.4.17 in /Users/bethie/opt/anaconda3/lib/python3.9/site-packages (from requests->python-binance) (2022.9.24)\n",
      "Requirement already satisfied: pytz-deprecation-shim in /Users/bethie/opt/anaconda3/lib/python3.9/site-packages (from tzlocal->dateparser->python-binance) (0.1.0.post0)\n",
      "Requirement already satisfied: tzdata in /Users/bethie/opt/anaconda3/lib/python3.9/site-packages (from pytz-deprecation-shim->tzlocal->dateparser->python-binance) (2022.7)\n",
      "Note: you may need to restart the kernel to use updated packages.\n"
     ]
    }
   ],
   "source": [
    "pip install python-binance"
   ]
  },
  {
   "cell_type": "code",
   "execution_count": 1,
   "metadata": {},
   "outputs": [
    {
     "ename": "NameError",
     "evalue": "name 'api_key' is not defined",
     "output_type": "error",
     "traceback": [
      "\u001b[0;31m---------------------------------------------------------------------------\u001b[0m",
      "\u001b[0;31mNameError\u001b[0m                                 Traceback (most recent call last)",
      "\u001b[0;32m/var/folders/jx/l7tdc0hn3xj96v6n943zvz040000gn/T/ipykernel_93053/3087689101.py\u001b[0m in \u001b[0;36m<module>\u001b[0;34m\u001b[0m\n\u001b[1;32m      1\u001b[0m \u001b[0;32mfrom\u001b[0m \u001b[0mbinance\u001b[0m \u001b[0;32mimport\u001b[0m \u001b[0mClient\u001b[0m\u001b[0;34m,\u001b[0m \u001b[0mThreadedWebsocketManager\u001b[0m\u001b[0;34m,\u001b[0m \u001b[0mThreadedDepthCacheManager\u001b[0m\u001b[0;34m\u001b[0m\u001b[0;34m\u001b[0m\u001b[0m\n\u001b[0;32m----> 2\u001b[0;31m \u001b[0mclient\u001b[0m \u001b[0;34m=\u001b[0m \u001b[0mClient\u001b[0m\u001b[0;34m(\u001b[0m\u001b[0mapi_key\u001b[0m\u001b[0;34m,\u001b[0m \u001b[0mapi_secret\u001b[0m\u001b[0;34m)\u001b[0m\u001b[0;34m\u001b[0m\u001b[0;34m\u001b[0m\u001b[0m\n\u001b[0m",
      "\u001b[0;31mNameError\u001b[0m: name 'api_key' is not defined"
     ]
    }
   ],
   "source": [
    "from binance import Client, ThreadedWebsocketManager, ThreadedDepthCacheManager\n",
    "client = Client(api_key, api_secret)"
   ]
  },
  {
   "cell_type": "code",
   "execution_count": null,
   "metadata": {},
   "outputs": [],
   "source": []
  }
 ],
 "metadata": {
  "kernelspec": {
   "display_name": "Python 3 (ipykernel)",
   "language": "python",
   "name": "python3"
  },
  "language_info": {
   "codemirror_mode": {
    "name": "ipython",
    "version": 3
   },
   "file_extension": ".py",
   "mimetype": "text/x-python",
   "name": "python",
   "nbconvert_exporter": "python",
   "pygments_lexer": "ipython3",
   "version": "3.9.13"
  }
 },
 "nbformat": 4,
 "nbformat_minor": 2
}
