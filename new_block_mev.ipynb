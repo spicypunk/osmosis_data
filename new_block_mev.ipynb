{
 "cells": [
  {
   "cell_type": "code",
   "execution_count": 20,
   "id": "bb8d2dc5",
   "metadata": {},
   "outputs": [],
   "source": [
    "import pandas as pd"
   ]
  },
  {
   "cell_type": "code",
   "execution_count": 42,
   "id": "94b690af",
   "metadata": {},
   "outputs": [],
   "source": [
    "# last block 8750525\n",
    "# 20:43:07.05\n",
    "# next block 8750526\n",
    "# 20:43:13.24"
   ]
  },
  {
   "cell_type": "code",
   "execution_count": 21,
   "id": "2b896049",
   "metadata": {},
   "outputs": [],
   "source": [
    "# last order book before block 8750526\n",
    "data = {\"lastUpdateId\": 37092906, \"bids\": [[\"0.87900000\", \"704.54000000\"], [\"0.87800000\", \"3329.31000000\"], [\"0.87700000\", \"3235.82000000\"], [\"0.87600000\", \"901.66000000\"], [\"0.87500000\", \"8657.04000000\"], [\"0.87400000\", \"43741.62000000\"], [\"0.87300000\", \"6612.27000000\"], [\"0.87200000\", \"22866.07000000\"], [\"0.87100000\", \"1719.35000000\"], [\"0.87000000\", \"7119.29000000\"], [\"0.86900000\", \"2503.08000000\"], [\"0.86800000\", \"9638.15000000\"], [\"0.86700000\", \"222.60000000\"], [\"0.86600000\", \"1706.54000000\"], [\"0.86300000\", \"59.69000000\"], [\"0.86200000\", \"874.89000000\"], [\"0.86100000\", \"177.12000000\"], [\"0.86000000\", \"2212.04000000\"], [\"0.85800000\", \"2094.72000000\"], [\"0.85700000\", \"64.14000000\"]], \"asks\": [[\"0.88100000\", \"1149.45000000\"], [\"0.88200000\", \"1069.78000000\"], [\"0.88300000\", \"3634.90000000\"], [\"0.88400000\", \"19111.75000000\"], [\"0.88500000\", \"9478.02000000\"], [\"0.88600000\", \"2155.99000000\"], [\"0.88700000\", \"565.41000000\"], [\"0.88800000\", \"10739.45000000\"], [\"0.88900000\", \"2455.52000000\"], [\"0.89000000\", \"1354.88000000\"], [\"0.89100000\", \"805.17000000\"], [\"0.89200000\", \"3312.90000000\"], [\"0.89300000\", \"2221.77000000\"], [\"0.89400000\", \"1215.53000000\"], [\"0.89500000\", \"791.67000000\"], [\"0.89600000\", \"622.80000000\"], [\"0.89700000\", \"276.93000000\"], [\"0.89800000\", \"375.62000000\"], [\"0.89900000\", \"1687.21000000\"], [\"0.90000000\", \"406.79000000\"]], \"time\": \"2023-03-17 20:43:13.174453\"}"
   ]
  },
  {
   "cell_type": "code",
   "execution_count": 22,
   "id": "3e534a59",
   "metadata": {},
   "outputs": [
    {
     "data": {
      "text/html": [
       "<div>\n",
       "<style scoped>\n",
       "    .dataframe tbody tr th:only-of-type {\n",
       "        vertical-align: middle;\n",
       "    }\n",
       "\n",
       "    .dataframe tbody tr th {\n",
       "        vertical-align: top;\n",
       "    }\n",
       "\n",
       "    .dataframe thead th {\n",
       "        text-align: right;\n",
       "    }\n",
       "</style>\n",
       "<table border=\"1\" class=\"dataframe\">\n",
       "  <thead>\n",
       "    <tr style=\"text-align: right;\">\n",
       "      <th></th>\n",
       "      <th>price</th>\n",
       "      <th>quantity</th>\n",
       "      <th>side</th>\n",
       "    </tr>\n",
       "  </thead>\n",
       "  <tbody>\n",
       "    <tr>\n",
       "      <th>0</th>\n",
       "      <td>0.879</td>\n",
       "      <td>704.54</td>\n",
       "      <td>bid</td>\n",
       "    </tr>\n",
       "    <tr>\n",
       "      <th>1</th>\n",
       "      <td>0.878</td>\n",
       "      <td>3329.31</td>\n",
       "      <td>bid</td>\n",
       "    </tr>\n",
       "    <tr>\n",
       "      <th>2</th>\n",
       "      <td>0.877</td>\n",
       "      <td>3235.82</td>\n",
       "      <td>bid</td>\n",
       "    </tr>\n",
       "    <tr>\n",
       "      <th>3</th>\n",
       "      <td>0.876</td>\n",
       "      <td>901.66</td>\n",
       "      <td>bid</td>\n",
       "    </tr>\n",
       "    <tr>\n",
       "      <th>4</th>\n",
       "      <td>0.875</td>\n",
       "      <td>8657.04</td>\n",
       "      <td>bid</td>\n",
       "    </tr>\n",
       "    <tr>\n",
       "      <th>5</th>\n",
       "      <td>0.874</td>\n",
       "      <td>43741.62</td>\n",
       "      <td>bid</td>\n",
       "    </tr>\n",
       "    <tr>\n",
       "      <th>6</th>\n",
       "      <td>0.873</td>\n",
       "      <td>6612.27</td>\n",
       "      <td>bid</td>\n",
       "    </tr>\n",
       "    <tr>\n",
       "      <th>7</th>\n",
       "      <td>0.872</td>\n",
       "      <td>22866.07</td>\n",
       "      <td>bid</td>\n",
       "    </tr>\n",
       "    <tr>\n",
       "      <th>8</th>\n",
       "      <td>0.871</td>\n",
       "      <td>1719.35</td>\n",
       "      <td>bid</td>\n",
       "    </tr>\n",
       "    <tr>\n",
       "      <th>9</th>\n",
       "      <td>0.870</td>\n",
       "      <td>7119.29</td>\n",
       "      <td>bid</td>\n",
       "    </tr>\n",
       "    <tr>\n",
       "      <th>10</th>\n",
       "      <td>0.869</td>\n",
       "      <td>2503.08</td>\n",
       "      <td>bid</td>\n",
       "    </tr>\n",
       "    <tr>\n",
       "      <th>11</th>\n",
       "      <td>0.868</td>\n",
       "      <td>9638.15</td>\n",
       "      <td>bid</td>\n",
       "    </tr>\n",
       "    <tr>\n",
       "      <th>12</th>\n",
       "      <td>0.867</td>\n",
       "      <td>222.60</td>\n",
       "      <td>bid</td>\n",
       "    </tr>\n",
       "    <tr>\n",
       "      <th>13</th>\n",
       "      <td>0.866</td>\n",
       "      <td>1706.54</td>\n",
       "      <td>bid</td>\n",
       "    </tr>\n",
       "    <tr>\n",
       "      <th>14</th>\n",
       "      <td>0.863</td>\n",
       "      <td>59.69</td>\n",
       "      <td>bid</td>\n",
       "    </tr>\n",
       "    <tr>\n",
       "      <th>15</th>\n",
       "      <td>0.862</td>\n",
       "      <td>874.89</td>\n",
       "      <td>bid</td>\n",
       "    </tr>\n",
       "    <tr>\n",
       "      <th>16</th>\n",
       "      <td>0.861</td>\n",
       "      <td>177.12</td>\n",
       "      <td>bid</td>\n",
       "    </tr>\n",
       "    <tr>\n",
       "      <th>17</th>\n",
       "      <td>0.860</td>\n",
       "      <td>2212.04</td>\n",
       "      <td>bid</td>\n",
       "    </tr>\n",
       "    <tr>\n",
       "      <th>18</th>\n",
       "      <td>0.858</td>\n",
       "      <td>2094.72</td>\n",
       "      <td>bid</td>\n",
       "    </tr>\n",
       "    <tr>\n",
       "      <th>19</th>\n",
       "      <td>0.857</td>\n",
       "      <td>64.14</td>\n",
       "      <td>bid</td>\n",
       "    </tr>\n",
       "  </tbody>\n",
       "</table>\n",
       "</div>"
      ],
      "text/plain": [
       "    price  quantity side\n",
       "0   0.879    704.54  bid\n",
       "1   0.878   3329.31  bid\n",
       "2   0.877   3235.82  bid\n",
       "3   0.876    901.66  bid\n",
       "4   0.875   8657.04  bid\n",
       "5   0.874  43741.62  bid\n",
       "6   0.873   6612.27  bid\n",
       "7   0.872  22866.07  bid\n",
       "8   0.871   1719.35  bid\n",
       "9   0.870   7119.29  bid\n",
       "10  0.869   2503.08  bid\n",
       "11  0.868   9638.15  bid\n",
       "12  0.867    222.60  bid\n",
       "13  0.866   1706.54  bid\n",
       "14  0.863     59.69  bid\n",
       "15  0.862    874.89  bid\n",
       "16  0.861    177.12  bid\n",
       "17  0.860   2212.04  bid\n",
       "18  0.858   2094.72  bid\n",
       "19  0.857     64.14  bid"
      ]
     },
     "execution_count": 22,
     "metadata": {},
     "output_type": "execute_result"
    }
   ],
   "source": [
    "bid_levels = pd.DataFrame(data['bids'], columns = ['price', 'quantity'], dtype=float)\n",
    "bid_levels['side'] = \"bid\"\n",
    "bid_levels"
   ]
  },
  {
   "cell_type": "code",
   "execution_count": 23,
   "id": "7930d3ab",
   "metadata": {},
   "outputs": [
    {
     "data": {
      "text/html": [
       "<div>\n",
       "<style scoped>\n",
       "    .dataframe tbody tr th:only-of-type {\n",
       "        vertical-align: middle;\n",
       "    }\n",
       "\n",
       "    .dataframe tbody tr th {\n",
       "        vertical-align: top;\n",
       "    }\n",
       "\n",
       "    .dataframe thead th {\n",
       "        text-align: right;\n",
       "    }\n",
       "</style>\n",
       "<table border=\"1\" class=\"dataframe\">\n",
       "  <thead>\n",
       "    <tr style=\"text-align: right;\">\n",
       "      <th></th>\n",
       "      <th>price</th>\n",
       "      <th>quantity</th>\n",
       "      <th>ask</th>\n",
       "    </tr>\n",
       "  </thead>\n",
       "  <tbody>\n",
       "    <tr>\n",
       "      <th>0</th>\n",
       "      <td>0.881</td>\n",
       "      <td>1149.45</td>\n",
       "      <td>ask</td>\n",
       "    </tr>\n",
       "    <tr>\n",
       "      <th>1</th>\n",
       "      <td>0.882</td>\n",
       "      <td>1069.78</td>\n",
       "      <td>ask</td>\n",
       "    </tr>\n",
       "    <tr>\n",
       "      <th>2</th>\n",
       "      <td>0.883</td>\n",
       "      <td>3634.90</td>\n",
       "      <td>ask</td>\n",
       "    </tr>\n",
       "    <tr>\n",
       "      <th>3</th>\n",
       "      <td>0.884</td>\n",
       "      <td>19111.75</td>\n",
       "      <td>ask</td>\n",
       "    </tr>\n",
       "    <tr>\n",
       "      <th>4</th>\n",
       "      <td>0.885</td>\n",
       "      <td>9478.02</td>\n",
       "      <td>ask</td>\n",
       "    </tr>\n",
       "    <tr>\n",
       "      <th>5</th>\n",
       "      <td>0.886</td>\n",
       "      <td>2155.99</td>\n",
       "      <td>ask</td>\n",
       "    </tr>\n",
       "    <tr>\n",
       "      <th>6</th>\n",
       "      <td>0.887</td>\n",
       "      <td>565.41</td>\n",
       "      <td>ask</td>\n",
       "    </tr>\n",
       "    <tr>\n",
       "      <th>7</th>\n",
       "      <td>0.888</td>\n",
       "      <td>10739.45</td>\n",
       "      <td>ask</td>\n",
       "    </tr>\n",
       "    <tr>\n",
       "      <th>8</th>\n",
       "      <td>0.889</td>\n",
       "      <td>2455.52</td>\n",
       "      <td>ask</td>\n",
       "    </tr>\n",
       "    <tr>\n",
       "      <th>9</th>\n",
       "      <td>0.890</td>\n",
       "      <td>1354.88</td>\n",
       "      <td>ask</td>\n",
       "    </tr>\n",
       "    <tr>\n",
       "      <th>10</th>\n",
       "      <td>0.891</td>\n",
       "      <td>805.17</td>\n",
       "      <td>ask</td>\n",
       "    </tr>\n",
       "    <tr>\n",
       "      <th>11</th>\n",
       "      <td>0.892</td>\n",
       "      <td>3312.90</td>\n",
       "      <td>ask</td>\n",
       "    </tr>\n",
       "    <tr>\n",
       "      <th>12</th>\n",
       "      <td>0.893</td>\n",
       "      <td>2221.77</td>\n",
       "      <td>ask</td>\n",
       "    </tr>\n",
       "    <tr>\n",
       "      <th>13</th>\n",
       "      <td>0.894</td>\n",
       "      <td>1215.53</td>\n",
       "      <td>ask</td>\n",
       "    </tr>\n",
       "    <tr>\n",
       "      <th>14</th>\n",
       "      <td>0.895</td>\n",
       "      <td>791.67</td>\n",
       "      <td>ask</td>\n",
       "    </tr>\n",
       "    <tr>\n",
       "      <th>15</th>\n",
       "      <td>0.896</td>\n",
       "      <td>622.80</td>\n",
       "      <td>ask</td>\n",
       "    </tr>\n",
       "    <tr>\n",
       "      <th>16</th>\n",
       "      <td>0.897</td>\n",
       "      <td>276.93</td>\n",
       "      <td>ask</td>\n",
       "    </tr>\n",
       "    <tr>\n",
       "      <th>17</th>\n",
       "      <td>0.898</td>\n",
       "      <td>375.62</td>\n",
       "      <td>ask</td>\n",
       "    </tr>\n",
       "    <tr>\n",
       "      <th>18</th>\n",
       "      <td>0.899</td>\n",
       "      <td>1687.21</td>\n",
       "      <td>ask</td>\n",
       "    </tr>\n",
       "    <tr>\n",
       "      <th>19</th>\n",
       "      <td>0.900</td>\n",
       "      <td>406.79</td>\n",
       "      <td>ask</td>\n",
       "    </tr>\n",
       "  </tbody>\n",
       "</table>\n",
       "</div>"
      ],
      "text/plain": [
       "    price  quantity  ask\n",
       "0   0.881   1149.45  ask\n",
       "1   0.882   1069.78  ask\n",
       "2   0.883   3634.90  ask\n",
       "3   0.884  19111.75  ask\n",
       "4   0.885   9478.02  ask\n",
       "5   0.886   2155.99  ask\n",
       "6   0.887    565.41  ask\n",
       "7   0.888  10739.45  ask\n",
       "8   0.889   2455.52  ask\n",
       "9   0.890   1354.88  ask\n",
       "10  0.891    805.17  ask\n",
       "11  0.892   3312.90  ask\n",
       "12  0.893   2221.77  ask\n",
       "13  0.894   1215.53  ask\n",
       "14  0.895    791.67  ask\n",
       "15  0.896    622.80  ask\n",
       "16  0.897    276.93  ask\n",
       "17  0.898    375.62  ask\n",
       "18  0.899   1687.21  ask\n",
       "19  0.900    406.79  ask"
      ]
     },
     "execution_count": 23,
     "metadata": {},
     "output_type": "execute_result"
    }
   ],
   "source": [
    "ask_levels = pd.DataFrame(data['asks'], columns = ['price', 'quantity'], dtype=float)\n",
    "ask_levels['ask'] = \"ask\"\n",
    "ask_levels"
   ]
  },
  {
   "cell_type": "code",
   "execution_count": 24,
   "id": "f6daf267",
   "metadata": {},
   "outputs": [],
   "source": [
    "# on block 8750525\n",
    "# 20:43:07.05\n",
    "# USDC\n",
    "USDC_balance = 10538389100955\n",
    "# OSMO\n",
    "OSMO_balance = 11955952342952\n",
    "weight = 536870912000000\n",
    "swap_fee = 0.002000000000000000"
   ]
  },
  {
   "cell_type": "code",
   "execution_count": 26,
   "id": "cb9b991d",
   "metadata": {},
   "outputs": [
    {
     "data": {
      "text/plain": [
       "0.8814345188626777"
      ]
     },
     "execution_count": 26,
     "metadata": {},
     "output_type": "execute_result"
    }
   ],
   "source": [
    "# on Osmosis: the price of OSMO (in USDC) on Osmosis when block 8750525 lands\n",
    "sp = USDC_balance / OSMO_balance\n",
    "sp"
   ]
  },
  {
   "cell_type": "code",
   "execution_count": null,
   "id": "6a16fda6",
   "metadata": {},
   "outputs": [],
   "source": [
    "# check:\n",
    "# if ask_price < Osmosis\n",
    "#     buy on Binance and sell on Osmosis\n",
    "# if bid_price > Osmosis\n",
    "#     buy on Osmosis and sell on Binance\n",
    "\n",
    "# else:\n",
    "# continue\n",
    "    "
   ]
  },
  {
   "cell_type": "markdown",
   "id": "9d4938d0",
   "metadata": {},
   "source": [
    "on Binance: we will take the deepest liquidity layers on both sides as our bid/ask price"
   ]
  },
  {
   "cell_type": "code",
   "execution_count": 40,
   "id": "8f986d2b",
   "metadata": {},
   "outputs": [
    {
     "data": {
      "text/html": [
       "<div>\n",
       "<style scoped>\n",
       "    .dataframe tbody tr th:only-of-type {\n",
       "        vertical-align: middle;\n",
       "    }\n",
       "\n",
       "    .dataframe tbody tr th {\n",
       "        vertical-align: top;\n",
       "    }\n",
       "\n",
       "    .dataframe thead th {\n",
       "        text-align: right;\n",
       "    }\n",
       "</style>\n",
       "<table border=\"1\" class=\"dataframe\">\n",
       "  <thead>\n",
       "    <tr style=\"text-align: right;\">\n",
       "      <th></th>\n",
       "      <th>price</th>\n",
       "      <th>quantity</th>\n",
       "      <th>ask</th>\n",
       "    </tr>\n",
       "  </thead>\n",
       "  <tbody>\n",
       "    <tr>\n",
       "      <th>3</th>\n",
       "      <td>0.884</td>\n",
       "      <td>19111.75</td>\n",
       "      <td>ask</td>\n",
       "    </tr>\n",
       "  </tbody>\n",
       "</table>\n",
       "</div>"
      ],
      "text/plain": [
       "   price  quantity  ask\n",
       "3  0.884  19111.75  ask"
      ]
     },
     "execution_count": 40,
     "metadata": {},
     "output_type": "execute_result"
    }
   ],
   "source": [
    "# on Binance: if we take the price of deepest liquidity layers on both sides as our bid/ask price\n",
    "deepest_ask = ask_levels[ask_levels.quantity == ask_levels.quantity.max()]\n",
    "deepest_ask\n",
    "# ask_price = deepest_ask.price\n",
    "# ask_price"
   ]
  },
  {
   "cell_type": "code",
   "execution_count": 41,
   "id": "dbc1ce8b",
   "metadata": {},
   "outputs": [
    {
     "data": {
      "text/html": [
       "<div>\n",
       "<style scoped>\n",
       "    .dataframe tbody tr th:only-of-type {\n",
       "        vertical-align: middle;\n",
       "    }\n",
       "\n",
       "    .dataframe tbody tr th {\n",
       "        vertical-align: top;\n",
       "    }\n",
       "\n",
       "    .dataframe thead th {\n",
       "        text-align: right;\n",
       "    }\n",
       "</style>\n",
       "<table border=\"1\" class=\"dataframe\">\n",
       "  <thead>\n",
       "    <tr style=\"text-align: right;\">\n",
       "      <th></th>\n",
       "      <th>price</th>\n",
       "      <th>quantity</th>\n",
       "      <th>side</th>\n",
       "    </tr>\n",
       "  </thead>\n",
       "  <tbody>\n",
       "    <tr>\n",
       "      <th>5</th>\n",
       "      <td>0.874</td>\n",
       "      <td>43741.62</td>\n",
       "      <td>bid</td>\n",
       "    </tr>\n",
       "  </tbody>\n",
       "</table>\n",
       "</div>"
      ],
      "text/plain": [
       "   price  quantity side\n",
       "5  0.874  43741.62  bid"
      ]
     },
     "execution_count": 41,
     "metadata": {},
     "output_type": "execute_result"
    }
   ],
   "source": [
    "deepest_bid = bid_levels[bid_levels.quantity == bid_levels.quantity.max()]\n",
    "deepest_bid"
   ]
  },
  {
   "cell_type": "code",
   "execution_count": 43,
   "id": "e9b7e6cf",
   "metadata": {},
   "outputs": [
    {
     "data": {
      "text/plain": [
       "3    0.884\n",
       "Name: price, dtype: float64"
      ]
     },
     "execution_count": 43,
     "metadata": {},
     "output_type": "execute_result"
    }
   ],
   "source": [
    "sp_prime = deepest_ask.price\n",
    "sp_prime"
   ]
  },
  {
   "cell_type": "markdown",
   "id": "abf45bfb",
   "metadata": {},
   "source": [
    "# since ask_price > osmosis\n",
    "# and bid_price < osmosis\n",
    "# NO ARBITRAGE opportunity"
   ]
  },
  {
   "cell_type": "code",
   "execution_count": 54,
   "id": "1556d7fb",
   "metadata": {},
   "outputs": [],
   "source": [
    "# check how much we can trade on osmosis to move the price even\n",
    "balanceIn = OSMO_balance\n",
    "balanceOut = USDC_balance\n",
    "sp_now = balanceIn / balanceOut\n",
    "sp_now\n",
    "sp_goal = 1 / 0.884  # 586\n",
    "sp_goal\n",
    "weightIn = 536870912000000\n",
    "weightOut = 536870912000000"
   ]
  },
  {
   "cell_type": "code",
   "execution_count": 52,
   "id": "4d884f22",
   "metadata": {},
   "outputs": [
    {
     "data": {
      "text/plain": [
       "1.1345142249367637"
      ]
     },
     "execution_count": 52,
     "metadata": {},
     "output_type": "execute_result"
    }
   ],
   "source": [
    "sp_now"
   ]
  },
  {
   "cell_type": "code",
   "execution_count": null,
   "id": "44e9fef5",
   "metadata": {},
   "outputs": [],
   "source": [
    "sp_goal"
   ]
  },
  {
   "cell_type": "code",
   "execution_count": 45,
   "id": "03aeda9b",
   "metadata": {},
   "outputs": [
    {
     "name": "stdout",
     "output_type": "stream",
     "text": [
      "the amount to swap in is: 3   -1.736146e+10\n",
      "Name: price, dtype: float64\n"
     ]
    }
   ],
   "source": [
    "amountIn = balanceIn * (((sp_goal/sp_now)**(weightOut / (weightOut + weightIn))) - 1)\n",
    "print(\"the amount to swap in is:\", amountIn)"
   ]
  }
 ],
 "metadata": {
  "kernelspec": {
   "display_name": "Python 3 (ipykernel)",
   "language": "python",
   "name": "python3"
  },
  "language_info": {
   "codemirror_mode": {
    "name": "ipython",
    "version": 3
   },
   "file_extension": ".py",
   "mimetype": "text/x-python",
   "name": "python",
   "nbconvert_exporter": "python",
   "pygments_lexer": "ipython3",
   "version": "3.9.13"
  }
 },
 "nbformat": 4,
 "nbformat_minor": 5
}
