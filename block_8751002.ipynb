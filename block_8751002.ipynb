{
 "cells": [
  {
   "cell_type": "code",
   "execution_count": 1,
   "id": "3d66f9f2",
   "metadata": {},
   "outputs": [],
   "source": [
    "import pandas as pd"
   ]
  },
  {
   "cell_type": "code",
   "execution_count": 2,
   "id": "0766f1c5",
   "metadata": {},
   "outputs": [],
   "source": [
    "# last block 8751002\n",
    "# \n",
    "# next block 8751003\n",
    "# "
   ]
  },
  {
   "cell_type": "code",
   "execution_count": 3,
   "id": "df984fb9",
   "metadata": {},
   "outputs": [],
   "source": [
    "# last order book before block 8751003\n",
    "data = {\"lastUpdateId\": 37100665, \"bids\": [[\"0.88500000\", \"512.85000000\"], [\"0.88400000\", \"1685.41000000\"], [\"0.88300000\", \"2346.80000000\"], [\"0.88200000\", \"1800.04000000\"], [\"0.88100000\", \"1604.43000000\"], [\"0.88000000\", \"1417.84000000\"], [\"0.87900000\", \"59581.78000000\"], [\"0.87800000\", \"5956.70000000\"], [\"0.87700000\", \"8533.32000000\"], [\"0.87600000\", \"5829.77000000\"], [\"0.87500000\", \"9531.54000000\"], [\"0.87400000\", \"389.09000000\"], [\"0.87300000\", \"1872.47000000\"], [\"0.87200000\", \"596.33000000\"], [\"0.87100000\", \"2746.19000000\"], [\"0.87000000\", \"1364.11000000\"], [\"0.86900000\", \"1710.14000000\"], [\"0.86800000\", \"1017.46000000\"], [\"0.86700000\", \"25.44000000\"], [\"0.86600000\", \"577.37000000\"]], \"asks\": [[\"0.88600000\", \"119.97000000\"], [\"0.88700000\", \"2520.97000000\"], [\"0.88800000\", \"6862.83000000\"], [\"0.88900000\", \"3859.50000000\"], [\"0.89000000\", \"2051.45000000\"], [\"0.89100000\", \"22563.99000000\"], [\"0.89200000\", \"3002.28000000\"], [\"0.89300000\", \"561.80000000\"], [\"0.89400000\", \"2880.73000000\"], [\"0.89500000\", \"10328.47000000\"], [\"0.89600000\", \"1468.95000000\"], [\"0.89700000\", \"2020.84000000\"], [\"0.89800000\", \"392.34000000\"], [\"0.89900000\", \"558.04000000\"], [\"0.90000000\", \"1176.46000000\"], [\"0.90100000\", \"483.50000000\"], [\"0.90200000\", \"1771.15000000\"], [\"0.90300000\", \"23.23000000\"], [\"0.90400000\", \"1216.03000000\"], [\"0.90500000\", \"568.95000000\"]], \"time\": \"2023-03-17 21:28:23.209057\"}"
   ]
  },
  {
   "cell_type": "code",
   "execution_count": 19,
   "id": "aeffbfcc",
   "metadata": {},
   "outputs": [
    {
     "data": {
      "text/plain": [
       "[['0.88500000', '512.85000000'],\n",
       " ['0.88400000', '1685.41000000'],\n",
       " ['0.88300000', '2346.80000000'],\n",
       " ['0.88200000', '1800.04000000'],\n",
       " ['0.88100000', '1604.43000000'],\n",
       " ['0.88000000', '1417.84000000'],\n",
       " ['0.87900000', '59581.78000000'],\n",
       " ['0.87800000', '5956.70000000'],\n",
       " ['0.87700000', '8533.32000000'],\n",
       " ['0.87600000', '5829.77000000'],\n",
       " ['0.87500000', '9531.54000000'],\n",
       " ['0.87400000', '389.09000000'],\n",
       " ['0.87300000', '1872.47000000'],\n",
       " ['0.87200000', '596.33000000'],\n",
       " ['0.87100000', '2746.19000000'],\n",
       " ['0.87000000', '1364.11000000'],\n",
       " ['0.86900000', '1710.14000000'],\n",
       " ['0.86800000', '1017.46000000'],\n",
       " ['0.86700000', '25.44000000'],\n",
       " ['0.86600000', '577.37000000']]"
      ]
     },
     "execution_count": 19,
     "metadata": {},
     "output_type": "execute_result"
    }
   ],
   "source": [
    "data['bids']"
   ]
  },
  {
   "cell_type": "code",
   "execution_count": 30,
   "id": "3d890b21",
   "metadata": {},
   "outputs": [
    {
     "data": {
      "text/html": [
       "<div>\n",
       "<style scoped>\n",
       "    .dataframe tbody tr th:only-of-type {\n",
       "        vertical-align: middle;\n",
       "    }\n",
       "\n",
       "    .dataframe tbody tr th {\n",
       "        vertical-align: top;\n",
       "    }\n",
       "\n",
       "    .dataframe thead th {\n",
       "        text-align: right;\n",
       "    }\n",
       "</style>\n",
       "<table border=\"1\" class=\"dataframe\">\n",
       "  <thead>\n",
       "    <tr style=\"text-align: right;\">\n",
       "      <th></th>\n",
       "      <th>price</th>\n",
       "      <th>quantity</th>\n",
       "      <th>side</th>\n",
       "    </tr>\n",
       "  </thead>\n",
       "  <tbody>\n",
       "    <tr>\n",
       "      <th>0</th>\n",
       "      <td>0.885</td>\n",
       "      <td>512.85</td>\n",
       "      <td>bid</td>\n",
       "    </tr>\n",
       "    <tr>\n",
       "      <th>1</th>\n",
       "      <td>0.884</td>\n",
       "      <td>1685.41</td>\n",
       "      <td>bid</td>\n",
       "    </tr>\n",
       "    <tr>\n",
       "      <th>2</th>\n",
       "      <td>0.883</td>\n",
       "      <td>2346.80</td>\n",
       "      <td>bid</td>\n",
       "    </tr>\n",
       "    <tr>\n",
       "      <th>3</th>\n",
       "      <td>0.882</td>\n",
       "      <td>1800.04</td>\n",
       "      <td>bid</td>\n",
       "    </tr>\n",
       "    <tr>\n",
       "      <th>4</th>\n",
       "      <td>0.881</td>\n",
       "      <td>1604.43</td>\n",
       "      <td>bid</td>\n",
       "    </tr>\n",
       "    <tr>\n",
       "      <th>5</th>\n",
       "      <td>0.880</td>\n",
       "      <td>1417.84</td>\n",
       "      <td>bid</td>\n",
       "    </tr>\n",
       "    <tr>\n",
       "      <th>6</th>\n",
       "      <td>0.879</td>\n",
       "      <td>59581.78</td>\n",
       "      <td>bid</td>\n",
       "    </tr>\n",
       "    <tr>\n",
       "      <th>7</th>\n",
       "      <td>0.878</td>\n",
       "      <td>5956.70</td>\n",
       "      <td>bid</td>\n",
       "    </tr>\n",
       "    <tr>\n",
       "      <th>8</th>\n",
       "      <td>0.877</td>\n",
       "      <td>8533.32</td>\n",
       "      <td>bid</td>\n",
       "    </tr>\n",
       "    <tr>\n",
       "      <th>9</th>\n",
       "      <td>0.876</td>\n",
       "      <td>5829.77</td>\n",
       "      <td>bid</td>\n",
       "    </tr>\n",
       "    <tr>\n",
       "      <th>10</th>\n",
       "      <td>0.875</td>\n",
       "      <td>9531.54</td>\n",
       "      <td>bid</td>\n",
       "    </tr>\n",
       "    <tr>\n",
       "      <th>11</th>\n",
       "      <td>0.874</td>\n",
       "      <td>389.09</td>\n",
       "      <td>bid</td>\n",
       "    </tr>\n",
       "    <tr>\n",
       "      <th>12</th>\n",
       "      <td>0.873</td>\n",
       "      <td>1872.47</td>\n",
       "      <td>bid</td>\n",
       "    </tr>\n",
       "    <tr>\n",
       "      <th>13</th>\n",
       "      <td>0.872</td>\n",
       "      <td>596.33</td>\n",
       "      <td>bid</td>\n",
       "    </tr>\n",
       "    <tr>\n",
       "      <th>14</th>\n",
       "      <td>0.871</td>\n",
       "      <td>2746.19</td>\n",
       "      <td>bid</td>\n",
       "    </tr>\n",
       "    <tr>\n",
       "      <th>15</th>\n",
       "      <td>0.870</td>\n",
       "      <td>1364.11</td>\n",
       "      <td>bid</td>\n",
       "    </tr>\n",
       "    <tr>\n",
       "      <th>16</th>\n",
       "      <td>0.869</td>\n",
       "      <td>1710.14</td>\n",
       "      <td>bid</td>\n",
       "    </tr>\n",
       "    <tr>\n",
       "      <th>17</th>\n",
       "      <td>0.868</td>\n",
       "      <td>1017.46</td>\n",
       "      <td>bid</td>\n",
       "    </tr>\n",
       "    <tr>\n",
       "      <th>18</th>\n",
       "      <td>0.867</td>\n",
       "      <td>25.44</td>\n",
       "      <td>bid</td>\n",
       "    </tr>\n",
       "    <tr>\n",
       "      <th>19</th>\n",
       "      <td>0.866</td>\n",
       "      <td>577.37</td>\n",
       "      <td>bid</td>\n",
       "    </tr>\n",
       "  </tbody>\n",
       "</table>\n",
       "</div>"
      ],
      "text/plain": [
       "    price  quantity side\n",
       "0   0.885    512.85  bid\n",
       "1   0.884   1685.41  bid\n",
       "2   0.883   2346.80  bid\n",
       "3   0.882   1800.04  bid\n",
       "4   0.881   1604.43  bid\n",
       "5   0.880   1417.84  bid\n",
       "6   0.879  59581.78  bid\n",
       "7   0.878   5956.70  bid\n",
       "8   0.877   8533.32  bid\n",
       "9   0.876   5829.77  bid\n",
       "10  0.875   9531.54  bid\n",
       "11  0.874    389.09  bid\n",
       "12  0.873   1872.47  bid\n",
       "13  0.872    596.33  bid\n",
       "14  0.871   2746.19  bid\n",
       "15  0.870   1364.11  bid\n",
       "16  0.869   1710.14  bid\n",
       "17  0.868   1017.46  bid\n",
       "18  0.867     25.44  bid\n",
       "19  0.866    577.37  bid"
      ]
     },
     "execution_count": 30,
     "metadata": {},
     "output_type": "execute_result"
    }
   ],
   "source": [
    "bid_levels = pd.DataFrame(data['bids'], columns = ['price', 'quantity'], dtype=float)\n",
    "bid_levels['side'] = \"bid\"\n",
    "bid_levels"
   ]
  },
  {
   "cell_type": "code",
   "execution_count": 5,
   "id": "51c4a484",
   "metadata": {
    "scrolled": false
   },
   "outputs": [
    {
     "data": {
      "text/html": [
       "<div>\n",
       "<style scoped>\n",
       "    .dataframe tbody tr th:only-of-type {\n",
       "        vertical-align: middle;\n",
       "    }\n",
       "\n",
       "    .dataframe tbody tr th {\n",
       "        vertical-align: top;\n",
       "    }\n",
       "\n",
       "    .dataframe thead th {\n",
       "        text-align: right;\n",
       "    }\n",
       "</style>\n",
       "<table border=\"1\" class=\"dataframe\">\n",
       "  <thead>\n",
       "    <tr style=\"text-align: right;\">\n",
       "      <th></th>\n",
       "      <th>price</th>\n",
       "      <th>quantity</th>\n",
       "      <th>ask</th>\n",
       "    </tr>\n",
       "  </thead>\n",
       "  <tbody>\n",
       "    <tr>\n",
       "      <th>0</th>\n",
       "      <td>0.886</td>\n",
       "      <td>119.97</td>\n",
       "      <td>ask</td>\n",
       "    </tr>\n",
       "    <tr>\n",
       "      <th>1</th>\n",
       "      <td>0.887</td>\n",
       "      <td>2520.97</td>\n",
       "      <td>ask</td>\n",
       "    </tr>\n",
       "    <tr>\n",
       "      <th>2</th>\n",
       "      <td>0.888</td>\n",
       "      <td>6862.83</td>\n",
       "      <td>ask</td>\n",
       "    </tr>\n",
       "    <tr>\n",
       "      <th>3</th>\n",
       "      <td>0.889</td>\n",
       "      <td>3859.50</td>\n",
       "      <td>ask</td>\n",
       "    </tr>\n",
       "    <tr>\n",
       "      <th>4</th>\n",
       "      <td>0.890</td>\n",
       "      <td>2051.45</td>\n",
       "      <td>ask</td>\n",
       "    </tr>\n",
       "    <tr>\n",
       "      <th>5</th>\n",
       "      <td>0.891</td>\n",
       "      <td>22563.99</td>\n",
       "      <td>ask</td>\n",
       "    </tr>\n",
       "    <tr>\n",
       "      <th>6</th>\n",
       "      <td>0.892</td>\n",
       "      <td>3002.28</td>\n",
       "      <td>ask</td>\n",
       "    </tr>\n",
       "    <tr>\n",
       "      <th>7</th>\n",
       "      <td>0.893</td>\n",
       "      <td>561.80</td>\n",
       "      <td>ask</td>\n",
       "    </tr>\n",
       "    <tr>\n",
       "      <th>8</th>\n",
       "      <td>0.894</td>\n",
       "      <td>2880.73</td>\n",
       "      <td>ask</td>\n",
       "    </tr>\n",
       "    <tr>\n",
       "      <th>9</th>\n",
       "      <td>0.895</td>\n",
       "      <td>10328.47</td>\n",
       "      <td>ask</td>\n",
       "    </tr>\n",
       "    <tr>\n",
       "      <th>10</th>\n",
       "      <td>0.896</td>\n",
       "      <td>1468.95</td>\n",
       "      <td>ask</td>\n",
       "    </tr>\n",
       "    <tr>\n",
       "      <th>11</th>\n",
       "      <td>0.897</td>\n",
       "      <td>2020.84</td>\n",
       "      <td>ask</td>\n",
       "    </tr>\n",
       "    <tr>\n",
       "      <th>12</th>\n",
       "      <td>0.898</td>\n",
       "      <td>392.34</td>\n",
       "      <td>ask</td>\n",
       "    </tr>\n",
       "    <tr>\n",
       "      <th>13</th>\n",
       "      <td>0.899</td>\n",
       "      <td>558.04</td>\n",
       "      <td>ask</td>\n",
       "    </tr>\n",
       "    <tr>\n",
       "      <th>14</th>\n",
       "      <td>0.900</td>\n",
       "      <td>1176.46</td>\n",
       "      <td>ask</td>\n",
       "    </tr>\n",
       "    <tr>\n",
       "      <th>15</th>\n",
       "      <td>0.901</td>\n",
       "      <td>483.50</td>\n",
       "      <td>ask</td>\n",
       "    </tr>\n",
       "    <tr>\n",
       "      <th>16</th>\n",
       "      <td>0.902</td>\n",
       "      <td>1771.15</td>\n",
       "      <td>ask</td>\n",
       "    </tr>\n",
       "    <tr>\n",
       "      <th>17</th>\n",
       "      <td>0.903</td>\n",
       "      <td>23.23</td>\n",
       "      <td>ask</td>\n",
       "    </tr>\n",
       "    <tr>\n",
       "      <th>18</th>\n",
       "      <td>0.904</td>\n",
       "      <td>1216.03</td>\n",
       "      <td>ask</td>\n",
       "    </tr>\n",
       "    <tr>\n",
       "      <th>19</th>\n",
       "      <td>0.905</td>\n",
       "      <td>568.95</td>\n",
       "      <td>ask</td>\n",
       "    </tr>\n",
       "  </tbody>\n",
       "</table>\n",
       "</div>"
      ],
      "text/plain": [
       "    price  quantity  ask\n",
       "0   0.886    119.97  ask\n",
       "1   0.887   2520.97  ask\n",
       "2   0.888   6862.83  ask\n",
       "3   0.889   3859.50  ask\n",
       "4   0.890   2051.45  ask\n",
       "5   0.891  22563.99  ask\n",
       "6   0.892   3002.28  ask\n",
       "7   0.893    561.80  ask\n",
       "8   0.894   2880.73  ask\n",
       "9   0.895  10328.47  ask\n",
       "10  0.896   1468.95  ask\n",
       "11  0.897   2020.84  ask\n",
       "12  0.898    392.34  ask\n",
       "13  0.899    558.04  ask\n",
       "14  0.900   1176.46  ask\n",
       "15  0.901    483.50  ask\n",
       "16  0.902   1771.15  ask\n",
       "17  0.903     23.23  ask\n",
       "18  0.904   1216.03  ask\n",
       "19  0.905    568.95  ask"
      ]
     },
     "execution_count": 5,
     "metadata": {},
     "output_type": "execute_result"
    }
   ],
   "source": [
    "ask_levels = pd.DataFrame(data['asks'], columns = ['price', 'quantity'], dtype=float)\n",
    "ask_levels['ask'] = \"ask\"\n",
    "ask_levels"
   ]
  },
  {
   "cell_type": "code",
   "execution_count": 6,
   "id": "8c1b0ea3",
   "metadata": {},
   "outputs": [],
   "source": [
    "# on block 8751002\n",
    "USDC_balance = 10325108396381\n",
    "# OSMO\n",
    "OSMO_balance = 12162039269012\n",
    "weight = 536870912000000\n",
    "swap_fee = 0.002000000000000000"
   ]
  },
  {
   "cell_type": "code",
   "execution_count": 10,
   "id": "7904a3f8",
   "metadata": {
    "scrolled": true
   },
   "outputs": [
    {
     "data": {
      "text/plain": [
       "0.8489619354123147"
      ]
     },
     "execution_count": 10,
     "metadata": {},
     "output_type": "execute_result"
    }
   ],
   "source": [
    "osmosis_price = USDC_balance / OSMO_balance\n",
    "osmosis_price"
   ]
  },
  {
   "cell_type": "code",
   "execution_count": 11,
   "id": "85ad8dc8",
   "metadata": {},
   "outputs": [],
   "source": [
    "# on Binance: if we take the price of deepest liquidity layers on both sides as our bid/ask price\n",
    "ask_price = 0.891\n",
    "bid_price = 0.879"
   ]
  },
  {
   "cell_type": "code",
   "execution_count": 12,
   "id": "bf9411d8",
   "metadata": {},
   "outputs": [],
   "source": [
    "# check:\n",
    "# if ask_price < Osmosis\n",
    "#     buy on Binance and sell on Osmosis\n",
    "# if bid_price > Osmosis\n",
    "#     buy on Osmosis and sell on Binance\n",
    "\n",
    "# else:\n",
    "# continue"
   ]
  },
  {
   "cell_type": "code",
   "execution_count": 13,
   "id": "7ae56823",
   "metadata": {},
   "outputs": [],
   "source": [
    "# check how much we can trade on osmosis to move the price even\n",
    "balanceIn = USDC_balance\n",
    "balanceOut = OSMO_balance\n",
    "sp_now = balanceIn / balanceOut\n",
    "sp_now\n",
    "sp_goal = osmosis_price\n",
    "sp_goal\n",
    "weightIn = 536870912000000\n",
    "weightOut = 536870912000000"
   ]
  },
  {
   "cell_type": "code",
   "execution_count": 24,
   "id": "b73a5359",
   "metadata": {},
   "outputs": [],
   "source": [
    "def calculate_max_osmo(size, bids):\n",
    "    # trades on each layer\n",
    "    osmo_amount = 0\n",
    "    for i in range(len(bids)):\n",
    "        price = float(bids[i][0])\n",
    "        depth = float(bids[i][1])\n",
    "        if size > depth:\n",
    "            size -= depth\n",
    "            osmo_amount += depth / price\n",
    "        else:\n",
    "            osmo_amount += size / price\n",
    "    return osmo_amount"
   ]
  },
  {
   "cell_type": "code",
   "execution_count": 25,
   "id": "bfa6bae7",
   "metadata": {},
   "outputs": [
    {
     "data": {
      "text/plain": [
       "[['0.88500000', '512.85000000'],\n",
       " ['0.88400000', '1685.41000000'],\n",
       " ['0.88300000', '2346.80000000'],\n",
       " ['0.88200000', '1800.04000000'],\n",
       " ['0.88100000', '1604.43000000'],\n",
       " ['0.88000000', '1417.84000000'],\n",
       " ['0.87900000', '59581.78000000'],\n",
       " ['0.87800000', '5956.70000000'],\n",
       " ['0.87700000', '8533.32000000'],\n",
       " ['0.87600000', '5829.77000000'],\n",
       " ['0.87500000', '9531.54000000'],\n",
       " ['0.87400000', '389.09000000'],\n",
       " ['0.87300000', '1872.47000000'],\n",
       " ['0.87200000', '596.33000000'],\n",
       " ['0.87100000', '2746.19000000'],\n",
       " ['0.87000000', '1364.11000000'],\n",
       " ['0.86900000', '1710.14000000'],\n",
       " ['0.86800000', '1017.46000000'],\n",
       " ['0.86700000', '25.44000000'],\n",
       " ['0.86600000', '577.37000000']]"
      ]
     },
     "execution_count": 25,
     "metadata": {},
     "output_type": "execute_result"
    }
   ],
   "source": [
    "bids = data['bids']\n",
    "bids"
   ]
  },
  {
   "cell_type": "code",
   "execution_count": 26,
   "id": "b3e875aa",
   "metadata": {},
   "outputs": [
    {
     "name": "stdout",
     "output_type": "stream",
     "text": [
      "4338.301634115502\n"
     ]
    }
   ],
   "source": [
    "print(calculate_max_osmo(200, bids))"
   ]
  },
  {
   "cell_type": "code",
   "execution_count": 29,
   "id": "62d08c3e",
   "metadata": {},
   "outputs": [
    {
     "data": {
      "text/plain": [
       "1129.9435028248588"
      ]
     },
     "execution_count": 29,
     "metadata": {},
     "output_type": "execute_result"
    }
   ],
   "source": [
    "1000 / 0.885"
   ]
  },
  {
   "cell_type": "code",
   "execution_count": null,
   "id": "7a159ed7",
   "metadata": {},
   "outputs": [],
   "source": []
  }
 ],
 "metadata": {
  "kernelspec": {
   "display_name": "Python 3 (ipykernel)",
   "language": "python",
   "name": "python3"
  },
  "language_info": {
   "codemirror_mode": {
    "name": "ipython",
    "version": 3
   },
   "file_extension": ".py",
   "mimetype": "text/x-python",
   "name": "python",
   "nbconvert_exporter": "python",
   "pygments_lexer": "ipython3",
   "version": "3.9.13"
  }
 },
 "nbformat": 4,
 "nbformat_minor": 5
}
