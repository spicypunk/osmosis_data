{
 "cells": [
  {
   "cell_type": "code",
   "execution_count": 28,
   "id": "a547dfc1",
   "metadata": {},
   "outputs": [],
   "source": [
    "import pandas as pd"
   ]
  },
  {
   "cell_type": "code",
   "execution_count": 29,
   "id": "c84a6102",
   "metadata": {},
   "outputs": [],
   "source": [
    "df = pd.read_excel('one_block.xlsx')"
   ]
  },
  {
   "cell_type": "code",
   "execution_count": 30,
   "id": "bf5431a6",
   "metadata": {},
   "outputs": [
    {
     "name": "stdout",
     "output_type": "stream",
     "text": [
      "Index(['Unnamed: 0', 'Price', 'Volume', 'Unnamed: 3', 'Unix timestamp',\n",
      "       'height', 'Osmosis Price', 'Difference', 'Unnamed: 8', 'Unnamed: 9',\n",
      "       'Unnamed: 10'],\n",
      "      dtype='object')\n"
     ]
    }
   ],
   "source": [
    "print(df.columns)"
   ]
  },
  {
   "cell_type": "code",
   "execution_count": 31,
   "id": "f56171c6",
   "metadata": {},
   "outputs": [
    {
     "name": "stdout",
     "output_type": "stream",
     "text": [
      "      Unix timestamp  height  Volume  Price  Osmosis Price\n",
      "0      1666951200000  663954    9.62  1.040          1.732\n",
      "1      1666951200003  663954    7.67  1.788          1.732\n",
      "2      1666951200005  663954   13.98  1.788          1.732\n",
      "3      1666951200009  663954  313.19  1.788          1.732\n",
      "4      1666951200011  663954  175.39  1.788          1.732\n",
      "...              ...     ...     ...    ...            ...\n",
      "3562   1666951208994  663954   63.40  1.567          1.732\n",
      "3563   1666951208994  663954  185.37  1.567          1.732\n",
      "3564   1666951208994  663954  899.25  1.566          1.732\n",
      "3565   1666951208997  663954    6.88  1.586          1.732\n",
      "3566   1666951208997  663954   19.38  1.586          1.732\n",
      "\n",
      "[3567 rows x 5 columns]\n"
     ]
    }
   ],
   "source": [
    "df = df [['Unix timestamp','height','Volume','Price','Osmosis Price']]\n",
    "print(df)"
   ]
  },
  {
   "cell_type": "code",
   "execution_count": 32,
   "id": "da6ce08f",
   "metadata": {},
   "outputs": [],
   "source": [
    "df ['difference'] = df['Price'] - df['Osmosis Price']"
   ]
  },
  {
   "cell_type": "code",
   "execution_count": 34,
   "id": "5b9ce6bb",
   "metadata": {},
   "outputs": [
    {
     "name": "stdout",
     "output_type": "stream",
     "text": [
      "      Unix timestamp  height  Volume  Price  Osmosis Price  difference\n",
      "3566   1666951208997  663954   19.38  1.586          1.732      -0.146\n"
     ]
    }
   ],
   "source": [
    "arb = df.tail(1)\n",
    "print(arb)"
   ]
  },
  {
   "cell_type": "code",
   "execution_count": 98,
   "id": "e699cab5",
   "metadata": {},
   "outputs": [],
   "source": [
    "binance_price = 1.586\n",
    "height = arb['height']"
   ]
  },
  {
   "cell_type": "code",
   "execution_count": 73,
   "id": "2238ab42",
   "metadata": {},
   "outputs": [],
   "source": [
    "balanceIn = 10707980349869\n",
    "balanceOut = 18508931778008\n",
    "sp_now = 1/1.732\n",
    "sp_goal = 1/1.586\n",
    "weightIn = 536870912000000\n",
    "weightOut = 536870912000000"
   ]
  },
  {
   "cell_type": "code",
   "execution_count": 99,
   "id": "9828c1ef",
   "metadata": {},
   "outputs": [
    {
     "name": "stdout",
     "output_type": "stream",
     "text": [
      "the amount to swap in is: 482015305139.55145\n"
     ]
    }
   ],
   "source": [
    "amountIn = balanceIn * (((sp_goal/sp_now)**(weightOut / (weightOut + weightIn))) - 1)\n",
    "print(\"the amount to swap in is:\", amountIn)"
   ]
  },
  {
   "cell_type": "code",
   "execution_count": 100,
   "id": "c3938502",
   "metadata": {
    "scrolled": false
   },
   "outputs": [
    {
     "name": "stdout",
     "output_type": "stream",
     "text": [
      "797282561480.7476\n"
     ]
    }
   ],
   "source": [
    "amoutOut = balanceOut * (1-(balanceIn/(balanceIn + amountIn)))\n",
    "print(amoutOut)"
   ]
  },
  {
   "cell_type": "code",
   "execution_count": 103,
   "id": "b5aa63f6",
   "metadata": {
    "scrolled": true
   },
   "outputs": [
    {
     "name": "stdout",
     "output_type": "stream",
     "text": [
      "on Binance, sell 764476.2739513287 USDC to get OSMO\n",
      "The profit of the arb is 32806.28752941883 USDC\n"
     ]
    }
   ],
   "source": [
    "usdc_binance = (amountIn / 1000000) * binance_price\n",
    "print(f\"on Binance, sell {usdc_binance} USDC to get OSMO\")\n",
    "arb_mev = (amoutOut / 1000000) - usdc_binance\n",
    "print(f\"The profit of the arb is {arb_mev} USDC\")"
   ]
  },
  {
   "cell_type": "code",
   "execution_count": 90,
   "id": "e11cab5a",
   "metadata": {
    "scrolled": true
   },
   "outputs": [
    {
     "name": "stdout",
     "output_type": "stream",
     "text": [
      "1.6540606760403294\n"
     ]
    }
   ],
   "source": [
    "print(797282561480/482015305139)"
   ]
  },
  {
   "cell_type": "code",
   "execution_count": 94,
   "id": "bc66c281",
   "metadata": {
    "scrolled": true
   },
   "outputs": [
    {
     "name": "stdout",
     "output_type": "stream",
     "text": [
      "the percentage of profit from volumn is 0.042913054170438315\n"
     ]
    }
   ],
   "source": [
    "print(f\"the percentage of profit from volumn is {32806/764476}\")"
   ]
  },
  {
   "cell_type": "code",
   "execution_count": null,
   "id": "288c93de",
   "metadata": {},
   "outputs": [],
   "source": []
  }
 ],
 "metadata": {
  "kernelspec": {
   "display_name": "Python 3 (ipykernel)",
   "language": "python",
   "name": "python3"
  },
  "language_info": {
   "codemirror_mode": {
    "name": "ipython",
    "version": 3
   },
   "file_extension": ".py",
   "mimetype": "text/x-python",
   "name": "python",
   "nbconvert_exporter": "python",
   "pygments_lexer": "ipython3",
   "version": "3.9.13"
  }
 },
 "nbformat": 4,
 "nbformat_minor": 5
}
