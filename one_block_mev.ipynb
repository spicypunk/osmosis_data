{
 "cells": [
  {
   "cell_type": "code",
   "execution_count": 28,
   "id": "f067c85e",
   "metadata": {},
   "outputs": [],
   "source": [
    "import pandas as pd"
   ]
  },
  {
   "cell_type": "code",
   "execution_count": 108,
   "id": "c248d837",
   "metadata": {},
   "outputs": [],
   "source": [
    "df = pd.read_excel('one_block.xlsx')"
   ]
  },
  {
   "cell_type": "code",
   "execution_count": 109,
   "id": "f2810faa",
   "metadata": {},
   "outputs": [
    {
     "name": "stdout",
     "output_type": "stream",
     "text": [
      "Index(['Unnamed: 0', 'Price', 'Volume', 'Unnamed: 3', 'Unix timestamp',\n",
      "       'height', 'Omsomis Price', 'Difference', 'Unnamed: 8', 'Unnamed: 9',\n",
      "       'Unnamed: 10', 'Osmosis', 'Unnamed: 12', 'Balance', 'Weight'],\n",
      "      dtype='object')\n"
     ]
    }
   ],
   "source": [
    "print(df.columns)"
   ]
  },
  {
   "cell_type": "code",
   "execution_count": 111,
   "id": "41c91def",
   "metadata": {},
   "outputs": [
    {
     "name": "stdout",
     "output_type": "stream",
     "text": [
      "      Unix timestamp   height  Volume  Price  Omsomis Price\n",
      "0      1666951203000  6639544   28.90  1.782          1.732\n",
      "1      1666951203001  6639544   11.75  1.782          1.732\n",
      "2      1666951203001  6639544  125.59  1.782          1.732\n",
      "3      1666951203001  6639544  121.68  1.782          1.732\n",
      "4      1666951203009  6639544    6.17  1.782          1.732\n",
      "...              ...      ...     ...    ...            ...\n",
      "2513   1666951208994  6639544   63.40  1.567          1.732\n",
      "2514   1666951208994  6639544  185.37  1.567          1.732\n",
      "2515   1666951208994  6639544  899.25  1.566          1.732\n",
      "2516   1666951208997  6639544    6.88  1.586          1.732\n",
      "2517   1666951208997  6639544   19.38  1.586          1.732\n",
      "\n",
      "[2518 rows x 5 columns]\n"
     ]
    }
   ],
   "source": [
    "df = df [['Unix timestamp','height','Volume','Price','Omsomis Price']]\n",
    "print(df)"
   ]
  },
  {
   "cell_type": "code",
   "execution_count": 32,
   "id": "eb5ce710",
   "metadata": {},
   "outputs": [],
   "source": [
    "df ['difference'] = df['Price'] - df['Osmosis Price']"
   ]
  },
  {
   "cell_type": "code",
   "execution_count": 34,
   "id": "729f6e00",
   "metadata": {},
   "outputs": [
    {
     "name": "stdout",
     "output_type": "stream",
     "text": [
      "      Unix timestamp  height  Volume  Price  Osmosis Price  difference\n",
      "3566   1666951208997  663954   19.38  1.586          1.732      -0.146\n"
     ]
    }
   ],
   "source": [
    "arb = df.tail(1)\n",
    "print(arb)"
   ]
  },
  {
   "cell_type": "code",
   "execution_count": 98,
   "id": "073bc871",
   "metadata": {},
   "outputs": [],
   "source": [
    "binance_price = 1.586\n",
    "height = arb['height']"
   ]
  },
  {
   "cell_type": "code",
   "execution_count": 112,
   "id": "4008dafd",
   "metadata": {},
   "outputs": [],
   "source": [
    "balanceIn = 10707980349869\n",
    "balanceOut = 18508931778008\n",
    "sp_now = 1/1.732\n",
    "sp_goal = 1/1.722   # 586\n",
    "weightIn = 536870912000000\n",
    "weightOut = 536870912000000"
   ]
  },
  {
   "cell_type": "code",
   "execution_count": 113,
   "id": "32df6b4b",
   "metadata": {},
   "outputs": [
    {
     "name": "stdout",
     "output_type": "stream",
     "text": [
      "the amount to swap in is: 31046688377.681812\n"
     ]
    }
   ],
   "source": [
    "amountIn = balanceIn * (((sp_goal/sp_now)**(weightOut / (weightOut + weightIn))) - 1)\n",
    "print(\"the amount to swap in is:\", amountIn)"
   ]
  },
  {
   "cell_type": "code",
   "execution_count": 117,
   "id": "21ed3135",
   "metadata": {},
   "outputs": [
    {
     "data": {
      "text/plain": [
       "62.09337675536363"
      ]
     },
     "execution_count": 117,
     "metadata": {},
     "output_type": "execute_result"
    }
   ],
   "source": [
    "amountIn * 0.002/1000000"
   ]
  },
  {
   "cell_type": "code",
   "execution_count": 124,
   "id": "d7dcc79d",
   "metadata": {
    "scrolled": false
   },
   "outputs": [
    {
     "name": "stdout",
     "output_type": "stream",
     "text": [
      "53402889196.99909\n"
     ]
    }
   ],
   "source": [
    "amoutOut = balanceOut * (1-(balanceIn/(balanceIn + amountIn*0.998)))\n",
    "print(amoutOut)"
   ]
  },
  {
   "cell_type": "code",
   "execution_count": 125,
   "id": "cbd1e3a4",
   "metadata": {
    "scrolled": true
   },
   "outputs": [
    {
     "name": "stdout",
     "output_type": "stream",
     "text": [
      "on Binance, sell 49240.04776700336 USDC to get OSMO\n",
      "The profit of the arb is 4162.841429995737 USDC\n"
     ]
    }
   ],
   "source": [
    "usdc_binance = (amountIn / 1000000) * binance_price\n",
    "print(f\"on Binance, sell {usdc_binance} USDC to get OSMO\")\n",
    "arb_mev = (amoutOut / 1000000) - usdc_binance\n",
    "print(f\"The profit of the arb is {arb_mev} USDC\")"
   ]
  },
  {
   "cell_type": "code",
   "execution_count": 90,
   "id": "a2d73159",
   "metadata": {
    "scrolled": true
   },
   "outputs": [
    {
     "name": "stdout",
     "output_type": "stream",
     "text": [
      "1.6540606760403294\n"
     ]
    }
   ],
   "source": [
    "print(797282561480/482015305139)"
   ]
  },
  {
   "cell_type": "code",
   "execution_count": 94,
   "id": "cb59baa5",
   "metadata": {
    "scrolled": true
   },
   "outputs": [
    {
     "name": "stdout",
     "output_type": "stream",
     "text": [
      "the percentage of profit from volumn is 0.042913054170438315\n"
     ]
    }
   ],
   "source": [
    "print(f\"the percentage of profit from volumn is {32806/764476}\")"
   ]
  },
  {
   "cell_type": "code",
   "execution_count": null,
   "id": "0e8e263c",
   "metadata": {},
   "outputs": [],
   "source": []
  }
 ],
 "metadata": {
  "kernelspec": {
   "display_name": "Python 3 (ipykernel)",
   "language": "python",
   "name": "python3"
  },
  "language_info": {
   "codemirror_mode": {
    "name": "ipython",
    "version": 3
   },
   "file_extension": ".py",
   "mimetype": "text/x-python",
   "name": "python",
   "nbconvert_exporter": "python",
   "pygments_lexer": "ipython3",
   "version": "3.9.13"
  }
 },
 "nbformat": 4,
 "nbformat_minor": 5
}
